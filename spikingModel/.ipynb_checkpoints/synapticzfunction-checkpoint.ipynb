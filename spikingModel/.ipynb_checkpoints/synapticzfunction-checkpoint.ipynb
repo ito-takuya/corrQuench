{
 "cells": [
  {
   "cell_type": "markdown",
   "metadata": {},
   "source": [
    "# Analysis of spiking model\n",
    "## Implemented (with slight variations) as repoted in Litwin-Kumar & Doiron, 2012\n",
    "\n",
    "#### Taku Ito\n",
    "#### 07/09/2019"
   ]
  },
  {
   "cell_type": "code",
   "execution_count": 1,
   "metadata": {},
   "outputs": [],
   "source": [
    "import numpy as np\n",
    "import model_nomatmul as model\n",
    "from importlib import reload\n",
    "import matplotlib.pyplot as plt\n",
    "import seaborn as sns\n",
    "from scipy.signal import convolve2d\n",
    "%matplotlib inline\n",
    "import numpy.matlib as matlib\n",
    "from statsmodels.distributions.empirical_distribution import ECDF\n",
    "import time as timepkg"
   ]
  },
  {
   "cell_type": "markdown",
   "metadata": {},
   "source": [
    "#### Construct model, set parameters and synaptic efficacies"
   ]
  },
  {
   "cell_type": "markdown",
   "metadata": {},
   "source": [
    "# Plot excitatory mean firing rate vs. excitatory mean input"
   ]
  },
  {
   "cell_type": "markdown",
   "metadata": {},
   "source": [
    "___"
   ]
  },
  {
   "cell_type": "markdown",
   "metadata": {},
   "source": [
    "#### John Murray's approach"
   ]
  },
  {
   "cell_type": "markdown",
   "metadata": {},
   "source": [
    "___"
   ]
  },
  {
   "cell_type": "markdown",
   "metadata": {},
   "source": [
    "# From Litwin-Kumar code"
   ]
  },
  {
   "cell_type": "code",
   "execution_count": 2,
   "metadata": {},
   "outputs": [
    {
     "ename": "NameError",
     "evalue": "name 'syntau1' is not defined",
     "output_type": "error",
     "traceback": [
      "\u001b[0;31m---------------------------------------------------------------------------\u001b[0m",
      "\u001b[0;31mNameError\u001b[0m                                 Traceback (most recent call last)",
      "\u001b[0;32m<ipython-input-2-7eb92b847ea7>\u001b[0m in \u001b[0;36m<module>\u001b[0;34m\u001b[0m\n\u001b[1;32m     49\u001b[0m     \u001b[0mxidecay\u001b[0m\u001b[0;34m[\u001b[0m\u001b[0;34m:\u001b[0m\u001b[0;34m,\u001b[0m\u001b[0mt\u001b[0m\u001b[0;34m+\u001b[0m\u001b[0;36m1\u001b[0m\u001b[0;34m]\u001b[0m \u001b[0;34m=\u001b[0m \u001b[0mxidecay\u001b[0m\u001b[0;34m[\u001b[0m\u001b[0;34m:\u001b[0m\u001b[0;34m,\u001b[0m\u001b[0mt\u001b[0m\u001b[0;34m]\u001b[0m \u001b[0;34m+\u001b[0m \u001b[0;34m(\u001b[0m\u001b[0mk1xidecay\u001b[0m\u001b[0;34m+\u001b[0m\u001b[0mk2xidecay\u001b[0m\u001b[0;34m)\u001b[0m\u001b[0;34m*\u001b[0m\u001b[0mdt\u001b[0m\u001b[0;34m/\u001b[0m\u001b[0;36m2.0\u001b[0m\u001b[0;34m\u001b[0m\u001b[0;34m\u001b[0m\u001b[0m\n\u001b[1;32m     50\u001b[0m \u001b[0;34m\u001b[0m\u001b[0m\n\u001b[0;32m---> 51\u001b[0;31m     \u001b[0mIe\u001b[0m\u001b[0;34m[\u001b[0m\u001b[0;34m:\u001b[0m\u001b[0;34m,\u001b[0m\u001b[0mt\u001b[0m\u001b[0;34m+\u001b[0m\u001b[0;36m1\u001b[0m\u001b[0;34m]\u001b[0m \u001b[0;34m=\u001b[0m \u001b[0;34m(\u001b[0m\u001b[0mxedecay\u001b[0m\u001b[0;34m[\u001b[0m\u001b[0;34m:\u001b[0m\u001b[0;34m,\u001b[0m\u001b[0mt\u001b[0m\u001b[0;34m+\u001b[0m\u001b[0;36m1\u001b[0m\u001b[0;34m]\u001b[0m\u001b[0;34m-\u001b[0m\u001b[0mxerise\u001b[0m\u001b[0;34m[\u001b[0m\u001b[0;34m:\u001b[0m\u001b[0;34m,\u001b[0m\u001b[0mt\u001b[0m\u001b[0;34m+\u001b[0m\u001b[0;36m1\u001b[0m\u001b[0;34m]\u001b[0m\u001b[0;34m)\u001b[0m\u001b[0;34m/\u001b[0m\u001b[0;34m(\u001b[0m\u001b[0msyntau2_e\u001b[0m \u001b[0;34m-\u001b[0m \u001b[0msyntau1\u001b[0m\u001b[0;34m)\u001b[0m\u001b[0;34m\u001b[0m\u001b[0;34m\u001b[0m\u001b[0m\n\u001b[0m\u001b[1;32m     52\u001b[0m     \u001b[0mIi\u001b[0m\u001b[0;34m[\u001b[0m\u001b[0;34m:\u001b[0m\u001b[0;34m,\u001b[0m\u001b[0mt\u001b[0m\u001b[0;34m+\u001b[0m\u001b[0;36m1\u001b[0m\u001b[0;34m]\u001b[0m \u001b[0;34m=\u001b[0m \u001b[0;34m(\u001b[0m\u001b[0mxidecay\u001b[0m\u001b[0;34m[\u001b[0m\u001b[0;34m:\u001b[0m\u001b[0;34m,\u001b[0m\u001b[0mt\u001b[0m\u001b[0;34m+\u001b[0m\u001b[0;36m1\u001b[0m\u001b[0;34m]\u001b[0m\u001b[0;34m-\u001b[0m\u001b[0mxirise\u001b[0m\u001b[0;34m[\u001b[0m\u001b[0;34m:\u001b[0m\u001b[0;34m,\u001b[0m\u001b[0mt\u001b[0m\u001b[0;34m+\u001b[0m\u001b[0;36m1\u001b[0m\u001b[0;34m]\u001b[0m\u001b[0;34m)\u001b[0m\u001b[0;34m/\u001b[0m\u001b[0;34m(\u001b[0m\u001b[0msyntau2_i\u001b[0m \u001b[0;34m-\u001b[0m \u001b[0msyntau1\u001b[0m\u001b[0;34m)\u001b[0m\u001b[0;34m\u001b[0m\u001b[0;34m\u001b[0m\u001b[0m\n\u001b[1;32m     53\u001b[0m \u001b[0;34m\u001b[0m\u001b[0m\n",
      "\u001b[0;31mNameError\u001b[0m: name 'syntau1' is not defined"
     ]
    }
   ],
   "source": [
    "dt = 0.1\n",
    "syntau1_e = 1.0\n",
    "syntau1_i = 1.0\n",
    "syntau2_e = 5.0\n",
    "syntau2_i = 8.0\n",
    "T = np.arange(0,20,.1)\n",
    "Ie = np.zeros((1,len(T)))\n",
    "Ii = np.zeros((1,len(T)))\n",
    "\n",
    "xerise = np.zeros((1,len(T)))\n",
    "xedecay = np.zeros((1,len(T)))\n",
    "xirise = np.zeros((1,len(T)))\n",
    "xidecay = np.zeros((1,len(T)))\n",
    "\n",
    "# alphax_e = 2\n",
    "# alphas_e = 2\n",
    "\n",
    "# alphax_i = 2.5\n",
    "# alphas_i = 2.5\n",
    "\n",
    "spikes = np.zeros((1,len(T)))\n",
    "spikes[0,0]=10\n",
    "for t in range(len(T)-1):\n",
    "    # K1\n",
    "    k1xerise = -xerise[:,t]/syntau1_e + spikes[0,t]\n",
    "    k1xedecay = -xedecay[:,t]/syntau2_e + spikes[0,t]\n",
    "\n",
    "    k1xirise = -xirise[:,t]/syntau1_i + spikes[0,t]\n",
    "    k1xidecay = -xidecay[:,t]/syntau2_i + spikes[0,t]\n",
    "    \n",
    "    # Midpoint\n",
    "    a_xerise = xerise[:,t] + k1xerise*dt\n",
    "    a_xedecay = xedecay[:,t] + k1xedecay*dt\n",
    "    a_xirise = xirise[:,t] + k1xirise*dt\n",
    "    a_xidecay = xidecay[:,t] + k1xidecay*dt\n",
    "    \n",
    "    # K2\n",
    "    k2xerise = -a_xerise/syntau1_e + spikes[0,t]\n",
    "    k2xedecay = -a_xedecay/syntau2_e + spikes[0,t]\n",
    "\n",
    "    k2xirise = -a_xirise/syntau1_i + spikes[0,t]\n",
    "    k2xidecay = -a_xidecay/syntau2_i + spikes[0,t]\n",
    " \n",
    "    # RK2\n",
    "    xerise[:,t+1] = xerise[:,t] + (k1xerise+k2xerise)*dt/2.0\n",
    "    xedecay[:,t+1] = xedecay[:,t] + (k1xedecay+k2xedecay)*dt/2.0\n",
    "    #\n",
    "    xirise[:,t+1] = xirise[:,t] + (k1xirise+k2xirise)*dt/2.0\n",
    "    xidecay[:,t+1] = xidecay[:,t] + (k1xidecay+k2xidecay)*dt/2.0\n",
    "    \n",
    "    Ie[:,t+1] = (xedecay[:,t+1]-xerise[:,t+1])/(syntau2_e - syntau1)\n",
    "    Ii[:,t+1] = (xidecay[:,t+1]-xirise[:,t+1])/(syntau2_i - syntau1)\n",
    "    \n",
    "\n",
    "# xerise[ci] += -dt*xerise[ci]/tauerise + forwardInputsEPrev[ci]\n",
    "# xedecay[ci] += -dt*xedecay[ci]/tauedecay + forwardInputsEPrev[ci]\n",
    "# xirise[ci] += -dt*xirise[ci]/tauirise + forwardInputsIPrev[ci]\n",
    "# xidecay[ci] += -dt*xidecay[ci]/tauidecay + forwardInputsIPrev[ci]\n",
    "\n",
    "# synInput = (xedecay[ci] - xerise[ci])/(tauedecay - tauerise) + (xidecay[ci] - xirise[ci])/(tauidecay - tauirise)\n",
    "\n",
    "\n",
    "plt.plot(T,Ie.T,label='excitatory')\n",
    "plt.plot(T,Ii.T,label='inhibitory')\n",
    "plt.legend()"
   ]
  },
  {
   "cell_type": "code",
   "execution_count": null,
   "metadata": {},
   "outputs": [],
   "source": []
  }
 ],
 "metadata": {
  "kernelspec": {
   "display_name": "Python 3",
   "language": "python",
   "name": "python3"
  },
  "language_info": {
   "codemirror_mode": {
    "name": "ipython",
    "version": 3
   },
   "file_extension": ".py",
   "mimetype": "text/x-python",
   "name": "python",
   "nbconvert_exporter": "python",
   "pygments_lexer": "ipython3",
   "version": "3.7.3"
  }
 },
 "nbformat": 4,
 "nbformat_minor": 4
}
