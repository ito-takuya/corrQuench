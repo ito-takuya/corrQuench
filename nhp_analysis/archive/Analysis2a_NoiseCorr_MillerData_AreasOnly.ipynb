{
 "cells": [
  {
   "cell_type": "markdown",
   "metadata": {},
   "source": [
    "# Empirical2a - Use Miller data set to demonstrate that during task states, correlated variability is quenched; compute average FR for each region separately\n",
    "## Using h5f data for faster i/o\n",
    "\n",
    "\n",
    "\n",
    "## Takuya Ito\n",
    "#### 08/01/2018"
   ]
  },
  {
   "cell_type": "code",
   "execution_count": 2,
   "metadata": {},
   "outputs": [],
   "source": [
    "import numpy as np\n",
    "import matplotlib.pyplot as plt\n",
    "%matplotlib inline\n",
    "import os\n",
    "import multiprocessing as mp\n",
    "import scipy.stats as stats\n",
    "import bct\n",
    "os.environ['OMP_NUM_THREADS'] = str(1)\n",
    "import statsmodels.api as sm\n",
    "import statsmodels.sandbox.stats.multicomp as mc\n",
    "import sklearn\n",
    "import seaborn as sns\n",
    "plt.style.use(\"ggplot\")\n",
    "sns.set_style('whitegrid')\n",
    "plt.rcParams[\"font.family\"] = \"FreeSans\"\n",
    "import nibabel as nib\n",
    "import pandas as pd\n",
    "import sys\n",
    "import h5py\n",
    "import statsmodels.api as sm\n",
    "sys.path.append('../')\n",
    "import dimensionality\n"
   ]
  },
  {
   "cell_type": "code",
   "execution_count": 3,
   "metadata": {},
   "outputs": [],
   "source": [
    "# sessions = ['100804']\n",
    "# sessions = ['100706','100730','100804','100820','100827','100913','100921','101024','101122','101128',\n",
    "#             '101207','101217','110110_01','110115_01','100724','100731','100817','100823','100828',\n",
    "#             '100915','101008','101027','101123','101202','101209','110106','110110_02','110120','100725',\n",
    "#             '100802','100818','100824','100907','100917','101009','101028','101124','101203','101210',\n",
    "#             '110107_01','110111_01','110121','100726','100803','100819','100826','100910','100920','101023',\n",
    "#             '101030','101127','101206','101216','110107_02','110111_02']\n",
    "\n",
    "datadir = '/projects3/TaskFCMech/data/nhpData/'\n",
    "tmin = -4000 # in ms\n",
    "tmax = 4000 # in ms, this was my own doing\n"
   ]
  },
  {
   "cell_type": "markdown",
   "metadata": {},
   "source": [
    "# 1.0 Load single session"
   ]
  },
  {
   "cell_type": "code",
   "execution_count": 4,
   "metadata": {},
   "outputs": [
    {
     "ename": "MemoryError",
     "evalue": "",
     "output_type": "error",
     "traceback": [
      "\u001b[0;31m---------------------------------------------------------------------------\u001b[0m",
      "\u001b[0;31mMemoryError\u001b[0m                               Traceback (most recent call last)",
      "\u001b[0;32m<ipython-input-4-809c7ca79564>\u001b[0m in \u001b[0;36m<module>\u001b[0;34m()\u001b[0m\n\u001b[1;32m      6\u001b[0m \u001b[0;34m\u001b[0m\u001b[0m\n\u001b[1;32m      7\u001b[0m \u001b[0mh5f\u001b[0m \u001b[0;34m=\u001b[0m \u001b[0mh5py\u001b[0m\u001b[0;34m.\u001b[0m\u001b[0mFile\u001b[0m\u001b[0;34m(\u001b[0m\u001b[0mdatadir\u001b[0m \u001b[0;34m+\u001b[0m \u001b[0msession\u001b[0m \u001b[0;34m+\u001b[0m \u001b[0;34m'.h5'\u001b[0m\u001b[0;34m,\u001b[0m\u001b[0;34m'r'\u001b[0m\u001b[0;34m)\u001b[0m\u001b[0;34m\u001b[0m\u001b[0m\n\u001b[0;32m----> 8\u001b[0;31m \u001b[0msta\u001b[0m \u001b[0;34m=\u001b[0m \u001b[0mh5f\u001b[0m\u001b[0;34m[\u001b[0m\u001b[0;34m'sta'\u001b[0m\u001b[0;34m]\u001b[0m\u001b[0;34m[\u001b[0m\u001b[0;34m:\u001b[0m\u001b[0;34m]\u001b[0m\u001b[0;34m.\u001b[0m\u001b[0mT\u001b[0m\u001b[0;34m.\u001b[0m\u001b[0mcopy\u001b[0m\u001b[0;34m(\u001b[0m\u001b[0;34m)\u001b[0m\u001b[0;34m\u001b[0m\u001b[0m\n\u001b[0m\u001b[1;32m      9\u001b[0m \u001b[0mh5f\u001b[0m\u001b[0;34m.\u001b[0m\u001b[0mclose\u001b[0m\u001b[0;34m(\u001b[0m\u001b[0;34m)\u001b[0m\u001b[0;34m\u001b[0m\u001b[0m\n",
      "\u001b[0;31mMemoryError\u001b[0m: "
     ]
    }
   ],
   "source": [
    "# session = '100706'\n",
    "session = '110110_01'\n",
    "# session = '100730'\n",
    "# session = '100804'\n",
    "# session ='100913'\n",
    "\n",
    "h5f = h5py.File(datadir + session + '.h5','r')\n",
    "sta = h5f['sta'][:].T.copy()\n",
    "h5f.close()"
   ]
  },
  {
   "cell_type": "markdown",
   "metadata": {},
   "source": [
    "#### Load other meta-data associated with neurons + task info"
   ]
  },
  {
   "cell_type": "code",
   "execution_count": 327,
   "metadata": {},
   "outputs": [],
   "source": [
    "taskInfo = pd.read_csv(datadir + session + '_trialInfoAllTasks.csv')\n",
    "unitInfo = pd.read_csv(datadir + session + '_unitInfo.csv')\n",
    "networkdef = unitInfo['area'].astype(str)\n",
    "\n",
    "# Create a network order\n",
    "locations = np.unique(networkdef)\n",
    "networkorder = []\n",
    "xticks = {}\n",
    "counter = 0\n",
    "for loc in locations:\n",
    "    ind = np.where(networkdef==loc)[0]\n",
    "    networkorder.extend(ind)\n",
    "    counter += len(ind)\n",
    "    xticks[counter] = loc\n",
    "    \n",
    "    \n",
    "networkorder = np.asarray(networkorder)\n",
    "networkorder.shape = (len(networkorder),1)\n"
   ]
  },
  {
   "cell_type": "markdown",
   "metadata": {},
   "source": [
    "## Create spike-triggered average response, across all rules/stims\n",
    "\n",
    "#### Use sliding window, 50ms sliding-window moving in 10ms (Churchland et al., 2010, Nat Neurosci)"
   ]
  },
  {
   "cell_type": "code",
   "execution_count": 328,
   "metadata": {},
   "outputs": [],
   "source": [
    "def slidingWindow(data,binSize=50,shiftSize=10,nproc=10):\n",
    "    \"\"\"\n",
    "    data - organized region x time (ms) x trial\n",
    "    binsize - window size to compute number of spikes\n",
    "    shiftsize - shift window by this amount\n",
    "    \n",
    "    Effectively downsamples data\n",
    "    \"\"\"\n",
    "    nCells = data.shape[0]\n",
    "    tLength = data.shape[1]\n",
    "    nTrials = data.shape[2]\n",
    "    \n",
    "    ###\n",
    "    \n",
    "    inputs = []\n",
    "    for trial in range(nTrials):\n",
    "        inputs.append((data[:,:,trial],binSize,shiftSize))\n",
    "        \n",
    "    pool = mp.Pool(processes=nproc)\n",
    "    results = pool.map_async(_slide,inputs).get()\n",
    "    pool.close()\n",
    "    pool.join()\n",
    "    \n",
    "    out = []\n",
    "    for result in results:\n",
    "        out.append(result.T)\n",
    "        \n",
    "    outarray = np.zeros((result.shape[1],result.shape[0],nTrials))\n",
    "    for i in range(nTrials):\n",
    "        outarray[:,:,i] = out[i]\n",
    "\n",
    "    return outarray\n",
    "\n",
    "### Helper function for parallel processing\n",
    "def _slide((trialdata,binSize,shiftSize)):\n",
    "    tLength = trialdata.shape[1]\n",
    "    \n",
    "    downSampledData = []\n",
    "    i = 0\n",
    "    while i < (tLength-binSize):\n",
    "        downSampledData.append(np.sum(trialdata[:,i:(i+binSize)],axis=1))\n",
    "        i += shiftSize\n",
    "\n",
    "    return np.asarray(downSampledData)\n",
    "        "
   ]
  },
  {
   "cell_type": "markdown",
   "metadata": {},
   "source": [
    "## Compute downsampled firing rate using 50ms bins and 10ms shift"
   ]
  },
  {
   "cell_type": "code",
   "execution_count": 329,
   "metadata": {},
   "outputs": [],
   "source": [
    "areas = np.unique(locations)\n",
    "sta_area = np.zeros((len(areas),sta.shape[1],sta.shape[2]))\n",
    "i = 0\n",
    "for i in range(len(areas)):\n",
    "    ind = np.where(networkdef==areas[i])[0]\n",
    "    sta_area[i,:,:] = np.sum(sta[ind,:,:],axis=0)\n",
    "\n",
    "sta_binned = slidingWindow(sta_area,binSize=50,shiftSize=10,nproc=20)\n",
    "time = np.linspace(tmin,tmax,sta_binned.shape[1])"
   ]
  },
  {
   "cell_type": "code",
   "execution_count": 330,
   "metadata": {},
   "outputs": [
    {
     "data": {
      "image/png": "[encoded data removed]",
      "text/plain": [
       "<matplotlib.figure.Figure at 0x7fce0457ca50>"
      ]
     },
     "metadata": {},
     "output_type": "display_data"
    }
   ],
   "source": [
    "sta_average = np.mean(sta_binned,axis=2)\n",
    "plt.figure(figsize=(8,4))\n",
    "ax = sns.heatmap(stats.zscore(sta_average,axis=1),cbar_kws={'fraction':0.046},yticklabels=20);\n",
    "plt.title(\"Spike-Triggered Average\\nFor each cell\", fontname='FreeSans',fontsize=24);\n",
    "plt.ylabel('Area',fontname='FreeSans',fontsize=18);\n",
    "plt.xlabel('Time (ms)', fontname='FreeSans', fontsize=18);\n",
    "plt.yticks(fontsize=16,fontname='FreeSans',rotation=0)\n",
    "plt.xticks(np.linspace(0,len(time),11),np.linspace(tmin,tmax,11,dtype=int),fontsize=16,fontname='FreeSans',rotation=45)\n",
    "ax.invert_yaxis()"
   ]
  },
  {
   "cell_type": "code",
   "execution_count": 331,
   "metadata": {},
   "outputs": [
    {
     "ename": "ValueError",
     "evalue": "num must be 1 <= num <= 2, not 3",
     "output_type": "error",
     "traceback": [
      "\u001b[0;31m---------------------------------------------------------------------------\u001b[0m",
      "\u001b[0;31mValueError\u001b[0m                                Traceback (most recent call last)",
      "\u001b[0;32m<ipython-input-331-a996c8a37cef>\u001b[0m in \u001b[0;36m<module>\u001b[0;34m()\u001b[0m\n\u001b[1;32m      6\u001b[0m     \u001b[0mtask_ind\u001b[0m \u001b[0;34m=\u001b[0m \u001b[0mnp\u001b[0m\u001b[0;34m.\u001b[0m\u001b[0mwhere\u001b[0m\u001b[0;34m(\u001b[0m\u001b[0mtasksByTrial\u001b[0m\u001b[0;34m==\u001b[0m\u001b[0mtask\u001b[0m\u001b[0;34m)\u001b[0m\u001b[0;34m[\u001b[0m\u001b[0;36m0\u001b[0m\u001b[0;34m]\u001b[0m\u001b[0;34m\u001b[0m\u001b[0m\n\u001b[1;32m      7\u001b[0m     \u001b[0msta_byTaskAvg\u001b[0m\u001b[0;34m[\u001b[0m\u001b[0mtask\u001b[0m\u001b[0;34m]\u001b[0m \u001b[0;34m=\u001b[0m \u001b[0mnp\u001b[0m\u001b[0;34m.\u001b[0m\u001b[0mmean\u001b[0m\u001b[0;34m(\u001b[0m\u001b[0msta_binned\u001b[0m\u001b[0;34m[\u001b[0m\u001b[0;34m:\u001b[0m\u001b[0;34m,\u001b[0m\u001b[0;34m:\u001b[0m\u001b[0;34m,\u001b[0m\u001b[0mtask_ind\u001b[0m\u001b[0;34m]\u001b[0m\u001b[0;34m,\u001b[0m\u001b[0maxis\u001b[0m\u001b[0;34m=\u001b[0m\u001b[0;36m2\u001b[0m\u001b[0;34m)\u001b[0m\u001b[0;34m\u001b[0m\u001b[0m\n\u001b[0;32m----> 8\u001b[0;31m     \u001b[0mplt\u001b[0m\u001b[0;34m.\u001b[0m\u001b[0msubplot\u001b[0m\u001b[0;34m(\u001b[0m\u001b[0;36m1\u001b[0m\u001b[0;34m,\u001b[0m\u001b[0;36m2\u001b[0m\u001b[0;34m,\u001b[0m\u001b[0mi\u001b[0m\u001b[0;34m)\u001b[0m\u001b[0;34m\u001b[0m\u001b[0m\n\u001b[0m\u001b[1;32m      9\u001b[0m     \u001b[0mplt\u001b[0m\u001b[0;34m.\u001b[0m\u001b[0mtitle\u001b[0m\u001b[0;34m(\u001b[0m\u001b[0;34m\"Spike-Triggered Average\\nTask: \"\u001b[0m \u001b[0;34m+\u001b[0m \u001b[0mtask\u001b[0m\u001b[0;34m,\u001b[0m \u001b[0mfontname\u001b[0m\u001b[0;34m=\u001b[0m\u001b[0;34m'FreeSans'\u001b[0m\u001b[0;34m,\u001b[0m\u001b[0mfontsize\u001b[0m\u001b[0;34m=\u001b[0m\u001b[0;36m24\u001b[0m\u001b[0;34m)\u001b[0m\u001b[0;34m;\u001b[0m\u001b[0;34m\u001b[0m\u001b[0m\n\u001b[1;32m     10\u001b[0m     \u001b[0mplt\u001b[0m\u001b[0;34m.\u001b[0m\u001b[0mylabel\u001b[0m\u001b[0;34m(\u001b[0m\u001b[0;34m'Firing rate'\u001b[0m\u001b[0;34m,\u001b[0m\u001b[0mfontname\u001b[0m\u001b[0;34m=\u001b[0m\u001b[0;34m'FreeSans'\u001b[0m\u001b[0;34m,\u001b[0m\u001b[0mfontsize\u001b[0m\u001b[0;34m=\u001b[0m\u001b[0;36m18\u001b[0m\u001b[0;34m)\u001b[0m\u001b[0;34m;\u001b[0m\u001b[0;34m\u001b[0m\u001b[0m\n",
      "\u001b[0;32m/usr/local/anaconda2/lib/python2.7/site-packages/matplotlib/pyplot.py\u001b[0m in \u001b[0;36msubplot\u001b[0;34m(*args, **kwargs)\u001b[0m\n\u001b[1;32m   1020\u001b[0m \u001b[0;34m\u001b[0m\u001b[0m\n\u001b[1;32m   1021\u001b[0m     \u001b[0mfig\u001b[0m \u001b[0;34m=\u001b[0m \u001b[0mgcf\u001b[0m\u001b[0;34m(\u001b[0m\u001b[0;34m)\u001b[0m\u001b[0;34m\u001b[0m\u001b[0m\n\u001b[0;32m-> 1022\u001b[0;31m     \u001b[0ma\u001b[0m \u001b[0;34m=\u001b[0m \u001b[0mfig\u001b[0m\u001b[0;34m.\u001b[0m\u001b[0madd_subplot\u001b[0m\u001b[0;34m(\u001b[0m\u001b[0;34m*\u001b[0m\u001b[0margs\u001b[0m\u001b[0;34m,\u001b[0m \u001b[0;34m**\u001b[0m\u001b[0mkwargs\u001b[0m\u001b[0;34m)\u001b[0m\u001b[0;34m\u001b[0m\u001b[0m\n\u001b[0m\u001b[1;32m   1023\u001b[0m     \u001b[0mbbox\u001b[0m \u001b[0;34m=\u001b[0m \u001b[0ma\u001b[0m\u001b[0;34m.\u001b[0m\u001b[0mbbox\u001b[0m\u001b[0;34m\u001b[0m\u001b[0m\n\u001b[1;32m   1024\u001b[0m     \u001b[0mbyebye\u001b[0m \u001b[0;34m=\u001b[0m \u001b[0;34m[\u001b[0m\u001b[0;34m]\u001b[0m\u001b[0;34m\u001b[0m\u001b[0m\n",
      "\u001b[0;32m/usr/local/anaconda2/lib/python2.7/site-packages/matplotlib/figure.py\u001b[0m in \u001b[0;36madd_subplot\u001b[0;34m(self, *args, **kwargs)\u001b[0m\n\u001b[1;32m   1003\u001b[0m                     \u001b[0mself\u001b[0m\u001b[0;34m.\u001b[0m\u001b[0m_axstack\u001b[0m\u001b[0;34m.\u001b[0m\u001b[0mremove\u001b[0m\u001b[0;34m(\u001b[0m\u001b[0max\u001b[0m\u001b[0;34m)\u001b[0m\u001b[0;34m\u001b[0m\u001b[0m\n\u001b[1;32m   1004\u001b[0m \u001b[0;34m\u001b[0m\u001b[0m\n\u001b[0;32m-> 1005\u001b[0;31m             \u001b[0ma\u001b[0m \u001b[0;34m=\u001b[0m \u001b[0msubplot_class_factory\u001b[0m\u001b[0;34m(\u001b[0m\u001b[0mprojection_class\u001b[0m\u001b[0;34m)\u001b[0m\u001b[0;34m(\u001b[0m\u001b[0mself\u001b[0m\u001b[0;34m,\u001b[0m \u001b[0;34m*\u001b[0m\u001b[0margs\u001b[0m\u001b[0;34m,\u001b[0m \u001b[0;34m**\u001b[0m\u001b[0mkwargs\u001b[0m\u001b[0;34m)\u001b[0m\u001b[0;34m\u001b[0m\u001b[0m\n\u001b[0m\u001b[1;32m   1006\u001b[0m \u001b[0;34m\u001b[0m\u001b[0m\n\u001b[1;32m   1007\u001b[0m         \u001b[0mself\u001b[0m\u001b[0;34m.\u001b[0m\u001b[0m_axstack\u001b[0m\u001b[0;34m.\u001b[0m\u001b[0madd\u001b[0m\u001b[0;34m(\u001b[0m\u001b[0mkey\u001b[0m\u001b[0;34m,\u001b[0m \u001b[0ma\u001b[0m\u001b[0;34m)\u001b[0m\u001b[0;34m\u001b[0m\u001b[0m\n",
      "\u001b[0;32m/usr/local/anaconda2/lib/python2.7/site-packages/matplotlib/axes/_subplots.py\u001b[0m in \u001b[0;36m__init__\u001b[0;34m(self, fig, *args, **kwargs)\u001b[0m\n\u001b[1;32m     62\u001b[0m                     raise ValueError(\n\u001b[1;32m     63\u001b[0m                         \"num must be 1 <= num <= {maxn}, not {num}\".format(\n\u001b[0;32m---> 64\u001b[0;31m                             maxn=rows*cols, num=num))\n\u001b[0m\u001b[1;32m     65\u001b[0m                 \u001b[0mself\u001b[0m\u001b[0;34m.\u001b[0m\u001b[0m_subplotspec\u001b[0m \u001b[0;34m=\u001b[0m \u001b[0mGridSpec\u001b[0m\u001b[0;34m(\u001b[0m\u001b[0mrows\u001b[0m\u001b[0;34m,\u001b[0m \u001b[0mcols\u001b[0m\u001b[0;34m)\u001b[0m\u001b[0;34m[\u001b[0m\u001b[0mint\u001b[0m\u001b[0;34m(\u001b[0m\u001b[0mnum\u001b[0m\u001b[0;34m)\u001b[0m \u001b[0;34m-\u001b[0m \u001b[0;36m1\u001b[0m\u001b[0;34m]\u001b[0m\u001b[0;34m\u001b[0m\u001b[0m\n\u001b[1;32m     66\u001b[0m                 \u001b[0;31m# num - 1 for converting from MATLAB to python indexing\u001b[0m\u001b[0;34m\u001b[0m\u001b[0;34m\u001b[0m\u001b[0m\n",
      "\u001b[0;31mValueError\u001b[0m: num must be 1 <= num <= 2, not 3"
     ]
    },
    {
     "data": {
      "image/png": "[encoded data removed]",
      "text/plain": [
       "<matplotlib.figure.Figure at 0x7fce2103a890>"
      ]
     },
     "metadata": {},
     "output_type": "display_data"
    }
   ],
   "source": [
    "sta_byTaskAvg = {}\n",
    "tasksByTrial = taskInfo['task'].astype(str)\n",
    "plt.figure(figsize=(15,4))\n",
    "i = 1\n",
    "for task in np.unique(tasksByTrial):\n",
    "    task_ind = np.where(tasksByTrial==task)[0]\n",
    "    sta_byTaskAvg[task] = np.mean(sta_binned[:,:,task_ind],axis=2)\n",
    "    plt.subplot(1,2,i)\n",
    "    plt.title(\"Spike-Triggered Average\\nTask: \" + task, fontname='FreeSans',fontsize=24);\n",
    "    plt.ylabel('Firing rate',fontname='FreeSans',fontsize=18);\n",
    "    plt.xlabel('Time (ms)', fontname='FreeSans', fontsize=18);\n",
    "    plt.plot(time,np.mean(sta_byTaskAvg[task],axis=0));\n",
    "    i += 1\n",
    "# sns.barplot(time, tmp);"
   ]
  },
  {
   "cell_type": "markdown",
   "metadata": {},
   "source": [
    "# For noise correlation analysis, we need to remove the spike-triggered average"
   ]
  },
  {
   "cell_type": "code",
   "execution_count": null,
   "metadata": {},
   "outputs": [],
   "source": [
    "sta_removed = np.zeros(sta_binned.shape)\n",
    "for area in range(sta_binned.shape[0]):\n",
    "    for trial in range(sta_binned.shape[2]):\n",
    "        task = taskInfo['task'][trial]\n",
    "        sta_removed[area,:,trial] = sta_binned[area,:,trial] - sta_byTaskAvg[task][area,:]"
   ]
  },
  {
   "cell_type": "markdown",
   "metadata": {},
   "source": [
    "## Leave-one-trial out subtraction of evoked response"
   ]
  },
  {
   "cell_type": "code",
   "execution_count": null,
   "metadata": {},
   "outputs": [],
   "source": [
    "# sta_removed = np.zeros(sta_binned.shape)\n",
    "# for area in range(sta_binned.shape[0]):\n",
    "#     for trial in range(sta_binned.shape[2]):\n",
    "#         task = taskInfo['task'][trial]\n",
    "#         task_ind = np.where(tasksByTrial==task)[0]\n",
    "#         task_ind = np.where(task_ind!=trial)[0]\n",
    "#         tmp = np.mean(sta_binned[:,:,task_ind],axis=2)\n",
    "#         sta_removed[area,:,trial] = sta_binned[area,:,trial] - tmp[area,:]"
   ]
  },
  {
   "cell_type": "markdown",
   "metadata": {},
   "source": [
    "### Now verify that the signal has been removed - the average across all residuals should look like noise"
   ]
  },
  {
   "cell_type": "code",
   "execution_count": null,
   "metadata": {},
   "outputs": [],
   "source": [
    "tmp = {}\n",
    "plt.figure(figsize=(15,4))\n",
    "i = 1\n",
    "for task in np.unique(tasksByTrial):\n",
    "    task_ind = np.where(tasksByTrial==task)[0]\n",
    "    tmp[task] = np.mean(sta_removed[:,:,task_ind],axis=2)\n",
    "    plt.subplot(1,2,i)\n",
    "    plt.title(\"Post STA-removal\\nTask: \" + task, fontname='FreeSans',fontsize=24);\n",
    "    plt.ylabel('Residual',fontname='FreeSans',fontsize=18);\n",
    "    plt.xlabel('Time (ms)', fontname='FreeSans', fontsize=18);\n",
    "    plt.plot(time,np.mean(tmp[task],axis=0));\n",
    "#     plt.plot(time,tmp[task][0,:]);\n",
    "    i += 1"
   ]
  },
  {
   "cell_type": "code",
   "execution_count": null,
   "metadata": {},
   "outputs": [],
   "source": [
    "tmp = np.mean(np.mean(sta_removed,axis=2),axis=0)\n",
    "plt.figure(figsize=(14,4))\n",
    "plt.plot(time,tmp)\n",
    "plt.title(\"Post STA-removal\\nAcross all cells and trials\", fontname='FreeSans',fontsize=24);\n",
    "plt.ylabel('Residual',fontname='FreeSans',fontsize=18);\n",
    "plt.xlabel('Time (ms)', fontname='FreeSans', fontsize=18);"
   ]
  },
  {
   "cell_type": "markdown",
   "metadata": {},
   "source": [
    "# Compute noise correlation before and after stimulus onset, for all pair of neurons"
   ]
  },
  {
   "cell_type": "code",
   "execution_count": null,
   "metadata": {},
   "outputs": [],
   "source": [
    "sta_removed2 = np.zeros(sta_removed.shape)\n",
    "for trial in range(sta_removed.shape[2]):\n",
    "    sta_removed2[:,:,trial] = stats.zscore(sta_removed[:,:,trial],axis=1)"
   ]
  },
  {
   "cell_type": "code",
   "execution_count": null,
   "metadata": {},
   "outputs": [],
   "source": [
    "# Basic parameters\n",
    "nCells = sta_removed.shape[0]\n",
    "nTrials = sta_removed.shape[2]\n",
    "# # identify indices to start and end correlation calculation\n",
    "# preStimStart = np.min(np.where(time>-2400)[0])\n",
    "# preStimEnd = np.min(np.where(time>-1500)[0])\n",
    "# #\n",
    "# postStimStart = np.min(np.where(time>-1400)[0])\n",
    "# postStimEnd = np.min(np.where(time>-500)[0])\n",
    "\n",
    "# Create empty arrays to store noise correlations\n",
    "preStimNoiseCorr = np.zeros((nCells,nCells,nTrials))\n",
    "postStimNoiseCorr = np.zeros((nCells,nCells,nTrials))\n",
    "preCorr_avg = np.zeros((nTrials,))\n",
    "postCorr_avg = np.zeros((nTrials,))\n",
    "\n",
    "# Create empty arrays to store SD values\n",
    "preStimNoiseSD = np.zeros((nCells,nTrials))\n",
    "postStimNoiseSD = np.zeros((nCells,nTrials))\n",
    "\n",
    "# Create empty arrays to store mean FR values\n",
    "preStimFR = np.zeros((nCells,nTrials))\n",
    "postStimFR = np.zeros((nCells,nTrials))\n",
    "\n",
    "dimensionalityPre = np.zeros((nTrials,))\n",
    "dimensionalityPost = np.zeros((nTrials,))\n",
    "\n",
    "badTrials = []\n",
    "badTrial1 = 0\n",
    "badTrial2 = 0\n",
    "for trial in range(nTrials):\n",
    "    # First identify the beginning of recording (prior to taskStart)\n",
    "    preStimStart = np.min(np.where(sta_removed[0,:,trial]!=0)[0])\n",
    "    try:\n",
    "        preStimEnd = np.max(np.where(time<(taskInfo['fixptOn'][trial])*1000)[0]) # Convert trial start times to ms\n",
    "#         preStimEnd = np.max(np.where(time<(taskInfo['fixptOn'][trial])*1000)[0]) # Convert trial start times to ms\n",
    "    except:\n",
    "        badTrials.append(trial)\n",
    "        badTrial1 += 1\n",
    "        continue\n",
    "    nTPs = preStimEnd - preStimStart\n",
    "    if nTPs<15:\n",
    "        badTrials.append(trial)\n",
    "        badTrial2 += 1\n",
    "        continue\n",
    "\n",
    "#     postStimStart = np.min(np.where(time>(taskInfo['fixptOn'][trial]*1000))[0])\n",
    "    postStimStart = np.min(np.where(time>=0)[0])\n",
    "    postStimEnd = postStimStart + nTPs\n",
    "    \n",
    "#     if trial%100==0:\n",
    "#         print 'Window duration:', nTPs\n",
    "#         print '\\tPreStimStart:', preStimStart, '| PreStimEnd:', preStimEnd\n",
    "#         print '\\tPostStimStart:', postStimStart, '| PostStimEnd:', postStimEnd\n",
    "    \n",
    "    # Noise correlation calculation\n",
    "    triu_ind = np.triu_indices(nCells,k=1)\n",
    "    A = np.corrcoef(sta_removed2[:,preStimStart:preStimEnd,trial])\n",
    "    np.fill_diagonal(A,0)\n",
    "    preStimNoiseCorr[:,:,trial] = np.arctanh(A)\n",
    "    preCorr_avg[trial] = np.nanmean(np.arctanh(A))\n",
    "    dimensionalityPre[trial] = dimensionality.getDimensionality(np.cov(sta_removed2[:,preStimStart:preStimEnd,trial]))\n",
    "    \n",
    "    A = np.corrcoef(sta_removed2[:,postStimStart:postStimEnd,trial])\n",
    "    np.fill_diagonal(A,0)\n",
    "    postStimNoiseCorr[:,:,trial] = np.arctanh(A)\n",
    "    postCorr_avg[trial] = np.nanmean(np.arctanh(A))\n",
    "    dimensionalityPost[trial] = dimensionality.getDimensionality(np.cov(sta_removed2[:,postStimStart:postStimEnd,trial]))\n",
    "    \n",
    "    # SD calculation\n",
    "    preStimNoiseSD[:,trial] = np.std(sta_removed2[:,preStimStart:preStimEnd,trial],axis=1)\n",
    "    postStimNoiseSD[:,trial] = np.std(sta_removed2[:,postStimStart:postStimEnd,trial],axis=1)\n",
    "    \n",
    "    # FR calculation\n",
    "    preStimFR[:,trial] = np.mean(sta_binned[:,preStimStart:preStimEnd,trial],axis=1)\n",
    "    postStimFR[:,trial] = np.mean(sta_binned[:,postStimStart:postStimEnd,trial],axis=1)\n",
    "        \n",
    "badTrials = np.asarray(badTrials)\n",
    "preStimNoiseCorr = np.delete(preStimNoiseCorr,badTrials,axis=2)\n",
    "postStimNoiseCorr = np.delete(postStimNoiseCorr,badTrials,axis=2)\n",
    "preCorr_avg = np.delete(preCorr_avg,badTrials,axis=0)\n",
    "postCorr_avg = np.delete(postCorr_avg,badTrials,axis=0)\n",
    "preStimNoiseSD = np.delete(preStimNoiseSD,badTrials,axis=1)\n",
    "postStimNoiseSD = np.delete(postStimNoiseSD,badTrials,axis=1)\n",
    "preStimFR = np.delete(preStimFR,badTrials,axis=1)\n",
    "postStimFR = np.delete(postStimFR,badTrials,axis=1)\n",
    "dimensionalityPre = np.delete(dimensionalityPre,badTrials,axis=0)\n",
    "dimensionalityPost = np.delete(dimensionalityPost,badTrials,axis=0)\n",
    "\n",
    "print 'Total number of bad Trials:', badTrial1 + badTrial2, '/', nTrials\n",
    "print '\\tNumber of Bad Trials 1', badTrial1\n",
    "print '\\tNumber of Bad Trials 2', badTrial2"
   ]
  },
  {
   "cell_type": "code",
   "execution_count": null,
   "metadata": {},
   "outputs": [],
   "source": [
    "nAreas = 4 #len(areas)\n",
    "\n",
    "plt.figure(figsize=(15,5))\n",
    "plt.subplot(131)\n",
    "cmin = np.min([np.mean(preStimNoiseCorr[:nAreas,:nAreas,:],2),np.mean(postStimNoiseCorr[:nAreas,:nAreas,:],2)])\n",
    "cmax = np.max([np.mean(preStimNoiseCorr[:nAreas,:nAreas,:],2),np.mean(postStimNoiseCorr[:nAreas,:nAreas,:],2)])\n",
    "ax = sns.heatmap(np.nanmean(preStimNoiseCorr[:nAreas,:nAreas,:],2),square=True,center=0,\n",
    "                 vmin=cmin, vmax=cmax,cmap='bwr',xticklabels=20,yticklabels=20,cbar_kws={'fraction':0.046})\n",
    "plt.xlabel('Area',fontsize=18,fontname='FreeSans')\n",
    "plt.ylabel('Area',fontsize=18,fontname='FreeSans')\n",
    "plt.xticks(np.arange(.5,nAreas),areas[:nAreas],rotation=-45,fontsize=16,fontname='FreeSans')\n",
    "plt.yticks(np.arange(.5,nAreas),areas[:nAreas],fontsize=16,rotation=0,fontname='FreeSans')\n",
    "plt.title('Pre-stim\\nspike count correlation',fontsize=24,fontname='FreeSans')\n",
    "ax.invert_yaxis()\n",
    "\n",
    "plt.subplot(132)\n",
    "ax = sns.heatmap(np.nanmean(postStimNoiseCorr[:nAreas,:nAreas,:],2),square=True,center=0,\n",
    "                 vmin=cmin, vmax=cmax,cmap='bwr',xticklabels=20,yticklabels=20,cbar_kws={'fraction':0.046})\n",
    "plt.xlabel('Area',fontsize=18,fontname='FreeSans')\n",
    "plt.ylabel('Area',fontsize=18,fontname='FreeSans')\n",
    "plt.xticks(np.arange(.5,nAreas),areas[:nAreas],rotation=-45,fontsize=16,fontname='FreeSans')\n",
    "plt.yticks(np.arange(.5,nAreas),areas[:nAreas],fontsize=16,rotation=0,fontname='FreeSans')\n",
    "plt.title('Post-stim\\nspike count correlation',fontsize=24,fontname='FreeSans')\n",
    "ax.invert_yaxis()\n",
    "\n",
    "\n",
    "plt.subplot(133)\n",
    "# Post-stim versus Pre-stim t-test\n",
    "t, p = stats.ttest_rel(postStimNoiseCorr[:nAreas,:nAreas,:],preStimNoiseCorr[:nAreas,:nAreas,:],axis=2)\n",
    "diff = np.mean(postStimNoiseCorr[:nAreas,:nAreas,:],axis=2)-np.mean(preStimNoiseCorr[:nAreas,:nAreas,:],axis=2)\n",
    "triu_ind = np.triu_indices(nAreas,k=1)\n",
    "qs = np.zeros((p.shape))\n",
    "qs[triu_ind] = mc.fdrcorrection0(p[triu_ind])[0]\n",
    "qs = qs + qs.T\n",
    "sigdiff = np.multiply(diff,qs)\n",
    "# sigdiff = diff\n",
    "ax = sns.heatmap(sigdiff,square=True,center=0,cmap='bwr',xticklabels=20,yticklabels=20,cbar_kws={'fraction':0.046})\n",
    "plt.xlabel('Area',fontsize=18,fontname='FreeSans')\n",
    "plt.ylabel('Area',fontsize=18,fontname='FreeSans')\n",
    "plt.xticks(np.arange(.5,nAreas),areas[:nAreas],rotation=-45,fontsize=16,fontname='FreeSans')\n",
    "plt.yticks(np.arange(.5,nAreas),areas[:nAreas],fontsize=16,rotation=0,fontname='FreeSans')\n",
    "plt.title('Post-stim vs. Pre-stim\\nSpike count correlation',fontsize=24,fontname='FreeSans')\n",
    "ax.invert_yaxis()\n",
    "plt.tight_layout()\n",
    "# plt.savefig('Analysis2a_RegionalSpikeCountCorrelations.pdf')"
   ]
  },
  {
   "cell_type": "markdown",
   "metadata": {},
   "source": [
    "## Compute dimensionality of post-stim correlations vs pre-stim correlations"
   ]
  },
  {
   "cell_type": "code",
   "execution_count": null,
   "metadata": {},
   "outputs": [],
   "source": [
    "# df_dimensionality = {}\n",
    "# df_dimensionality['State'] = []\n",
    "# df_dimensionality['Trial'] = []\n",
    "# df_dimensionality['Dimensionality'] = []\n",
    "# for trial in range(postStimNoiseCorr.shape[2]):\n",
    "#     df_dimensionality['State'].append('Task')\n",
    "#     df_dimensionality['Trial'].append(trial)\n",
    "#     tmp = postStimNoiseCorr[:,:,trial].copy()\n",
    "#     np.fill_diagonal(tmp,1)\n",
    "#     df_dimensionality['Dimensionality'].append(dimensionality.getDimensionality(tmp))\n",
    "    \n",
    "#     df_dimensionality['State'].append('Rest')\n",
    "#     df_dimensionality['Trial'].append(trial)\n",
    "#     tmp = preStimNoiseCorr[:,:,trial].copy()\n",
    "#     np.fill_diagonal(tmp,1)\n",
    "#     df_dimensionality['Dimensionality'].append(dimensionality.getDimensionality(tmp))\n",
    "        \n",
    "# df_dimensionality = pd.DataFrame(df_dimensionality)\n",
    "\n",
    "# Draw a nested boxplot to show bills by day and time\n",
    "plt.figure(figsize=(5,7))\n",
    "# tmprest = df_dimensionality.loc[df_dimensionality['State']=='Rest']\n",
    "# tmptask = df_dimensionality.loc[df_dimensionality['State']=='Task']\n",
    "t, p = stats.ttest_rel(dimensionalityPost,dimensionalityPre)\n",
    "\n",
    "sns.boxplot(data=[dimensionalityPre,dimensionalityPost],\n",
    "            palette=[\"#add8e6\",\"#f08080\"],\n",
    "            whis=np.inf)\n",
    "plt.title('Task versus Rest\\nWhole-brain Dimensionality\\nt = ' + str(round(t,3)) + ' | p = ' + str(round(p,3)),fontsize=24,fontname='FreeSans')\n",
    "plt.ylabel('Dimensionality',fontsize=20,fontname='FreeSans')\n",
    "plt.xlabel('State',fontsize=20,fontname='FreeSans')\n",
    "plt.xticks(np.arange(2),['Rest','Task'],fontname='FreeSans',fontsize=18)\n",
    "plt.ylim([np.min(df_dimensionality['Dimensionality'])-np.std(df_dimensionality['Dimensionality']),np.max(df_dimensionality['Dimensionality'])+3*np.std(df_dimensionality['Dimensionality'])]);\n",
    "\n"
   ]
  },
  {
   "cell_type": "markdown",
   "metadata": {},
   "source": [
    "# Compute average correlation/SD post-stim versus pre-stim, within the same trial, across all neurons"
   ]
  },
  {
   "cell_type": "code",
   "execution_count": null,
   "metadata": {},
   "outputs": [],
   "source": [
    "plt.figure(figsize=(15,5))\n",
    "t, p = stats.ttest_rel(postCorr_avg,preCorr_avg)\n",
    "# t, p = stats.wilcoxon(postCorr_avg,preCorr_avg)\n",
    "plt.subplot(131)\n",
    "tmpdat = [preCorr_avg,postCorr_avg]\n",
    "sns.boxplot(data=tmpdat,palette=[\"#add8e6\",\"#f08080\"])\n",
    "plt.xticks(np.arange(2),['Pre-stim','Post-stim'],fontsize=18, fontname='FreeSans');\n",
    "plt.title('Spike count correlation\\nPost- vs pre-stimulus\\nt = ' + str(round(t,3)) + ' | p = ' + str(round(p,3)) ,fontsize=24,fontname='FreeSans')\n",
    "print 'Spiking count correlation\\n\\tt = ' + str(round(t,3)) + ' | p = ' + str(round(p,3)),\n",
    "plt.ylabel('Average correlation',fontsize=18,fontname='FreeSans')\n",
    "plt.xlabel('Condition',fontsize=18,fontname='FreeSans')\n",
    "plt.ylim([np.min(tmpdat)-np.std(tmpdat),np.max(tmpdat)+3*np.std(tmpdat)])\n",
    "\n",
    "\n",
    "t, p = stats.ttest_rel(np.mean(postStimNoiseSD,0),np.mean(preStimNoiseSD,axis=0))\n",
    "# t, p = stats.wilcoxon(np.mean(postStimNoiseSD**2,0),np.mean(preStimNoiseSD**2,axis=0))\n",
    "plt.subplot(132)\n",
    "tmpdat = [np.mean(preStimNoiseSD,axis=0),np.mean(postStimNoiseSD,0)]\n",
    "sns.boxplot(data=tmpdat,palette=[\"#add8e6\",\"#f08080\"])\n",
    "plt.xticks(np.arange(2),['Pre-stim','Post-stim'],fontsize=18, fontname='FreeSans');\n",
    "plt.title('Spiking variability\\nPost- vs. pre-stimulus\\nt = ' + str(round(t,3)) + ' | p = ' + str(round(p,3)),fontsize=24,fontname='FreeSans')\n",
    "print '\\nSpiking variability\\n\\tt = ' + str(round(t,3)) + ' | p = ' + str(round(p,3)),\n",
    "plt.ylabel('Average SD',fontsize=18,fontname='FreeSans')\n",
    "plt.xlabel('Condition',fontsize=18,fontname='FreeSans')\n",
    "plt.ylim([np.min(tmpdat)-np.std(tmpdat),np.max(tmpdat)+3*np.std(tmpdat)])\n",
    "\n",
    "\n",
    "t, p = stats.ttest_rel(np.mean(postStimFR,0),np.mean(preStimFR,axis=0))\n",
    "print '\\nMean firing rate\\n\\tt = ' + str(round(t,3)) + ' | p = ' + str(round(p,3)),\n",
    "# t, p = stats.wilcoxon(np.mean(postStimFR,0),np.mean(preStimFR,axis=0))\n",
    "plt.subplot(133)\n",
    "tmpdat = [np.mean(preStimFR,axis=0),np.mean(postStimFR,0)]\n",
    "sns.boxplot(data=tmpdat,palette=[\"#add8e6\",\"#f08080\"])\n",
    "plt.xticks(np.arange(2),['Pre-stim','Post-stim'],fontsize=18, fontname='FreeSans');\n",
    "plt.title('Mean firing rate\\nPost- vs. pre-stimulus\\nt = ' + str(round(t,3)) + ' | p = ' + str(round(p,3)),fontsize=24,fontname='FreeSans')\n",
    "plt.ylabel('Average FR',fontsize=18,fontname='FreeSans')\n",
    "plt.xlabel('Condition',fontsize=18,fontname='FreeSans')\n",
    "plt.ylim([np.min(tmpdat)-np.std(tmpdat),np.max(tmpdat)+3*np.std(tmpdat)])\n",
    "plt.tight_layout()\n",
    "# plt.savefig('Analysis2a_correlationXvariabilityXfr.pdf')\n"
   ]
  },
  {
   "cell_type": "markdown",
   "metadata": {},
   "source": [
    "# Calculate CDFs of each region"
   ]
  },
  {
   "cell_type": "code",
   "execution_count": null,
   "metadata": {},
   "outputs": [],
   "source": [
    "cdf_areas = []\n",
    "plt.figure(figsize=(30,5))\n",
    "i=1\n",
    "for area in range(sta_binned.shape[0]):\n",
    "    # Identify time point in which recording began\n",
    "    timeStart = np.min(np.where(sta_binned[0,:,0]!=0)[0])\n",
    "    timeEnd = np.max(np.where(sta_binned[0,:,0]!=0)[0])\n",
    "    flatten = sta_binned[i-1,:,:].reshape(-1)\n",
    "    ecdf = sm.distributions.ECDF(flatten)\n",
    "#     plt.title(locations[area])\n",
    "    plt.subplot(1,5,i)\n",
    "    \n",
    "    plt.plot(ecdf.x,ecdf.y)\n",
    "    i += 1\n",
    "    "
   ]
  }
 ],
 "metadata": {
  "kernelspec": {
   "display_name": "Python 2",
   "language": "python",
   "name": "python2"
  },
  "language_info": {
   "codemirror_mode": {
    "name": "ipython",
    "version": 2
   },
   "file_extension": ".py",
   "mimetype": "text/x-python",
   "name": "python",
   "nbconvert_exporter": "python",
   "pygments_lexer": "ipython2",
   "version": "2.7.13"
  }
 },
 "nbformat": 4,
 "nbformat_minor": 2
}
